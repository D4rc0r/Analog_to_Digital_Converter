{
  "nbformat": 4,
  "nbformat_minor": 0,
  "metadata": {
    "colab": {
      "name": "Segunda entrega DFO.ipynb",
      "provenance": [],
      "collapsed_sections": [],
      "authorship_tag": "ABX9TyOOz8sYN+rDQG98rwqM7Ivi",
      "include_colab_link": true
    },
    "kernelspec": {
      "name": "python3",
      "display_name": "Python 3"
    },
    "language_info": {
      "name": "python"
    }
  },
  "cells": [
    {
      "cell_type": "markdown",
      "metadata": {
        "id": "view-in-github",
        "colab_type": "text"
      },
      "source": [
        "<a href=\"https://colab.research.google.com/github/D4rc0r/Analog_to_Digital_Converter/blob/master/Segunda_entrega_DFO.ipynb\" target=\"_parent\"><img src=\"https://colab.research.google.com/assets/colab-badge.svg\" alt=\"Open In Colab\"/></a>"
      ]
    },
    {
      "cell_type": "markdown",
      "source": [
        "# Diseño de filtros óptimos 2021-2\n",
        "Profesor: Luis Enrique Avendaño\n",
        "\n",
        "Estudiantes: Ivan Dario Mallama, \n",
        "            Styven Torres\n",
        "            \n",
        "Departamento de ingeniería eléctrica, electrónica y computación Universidad Nacional de Colombia - sede Manizales"
      ],
      "metadata": {
        "id": "YeEviOJi4hSq"
      }
    },
    {
      "cell_type": "markdown",
      "source": [
        "Del libro guia, Diseño de Filtros Óptimos, se desarrolla los siguientes ejemplos: \n",
        "\n",
        "Ejemplo 3.5.1 Se volverá al problema original de tratar de estimar la resistencia $x$ de un resistor no marcado sobre la base de $k$ medidas ruidosas generadas por un multímetro. Sin embargo, no se desea esperar hasta tener todas las medidas para tener un estimado. Se desea modificar recursivamente el estimado de $x$ cada vez que se obtenga una nueva medida. En un tiempo de muestreo $k$ la medida es\n",
        "$$\n",
        "\\begin{aligned}\n",
        "&y_{k}=H_{k} x+w_{k} \\\\\n",
        "&H_{k}=1 \\\\\n",
        "&R_{k}=\\mathscr{E}\\left\\{w_{k}^{2}\\right\\}\n",
        "\\end{aligned}\n",
        "$$\n",
        "Para este problema, la matriz de medida $\\mathbf{H}_{k}$ es un escalar y la covarianza del ruido de la medida $\\mathbf{R}_{k}$ también es un escalar. Se supone que cada medida tiene la misma covarianza, así la covarianza del ruido de la medida $\\mathbf{R}_{k}$ no es una función de $k$ y puede escribirse como $R$. Inicialmente, antes de tomar cualquier medida, se tiene alguna idea del valor de la resistencia $x$"
      ],
      "metadata": {
        "id": "wW-J32crrFGh"
      }
    },
    {
      "cell_type": "markdown",
      "source": [
        "\n",
        "$\\begin{aligned}\n",
        "&\\text { solucion:\n",
        "para desarrollar el ejemplo se sigue los pasos establecidos en el primer algoritmo:} \\\\ \\\\\n",
        "&\\text { Algoritmo } \\mathbf{1} \\text { Estimación recursiva por mínimos cuadrados } \\\\\n",
        "&\\text { Inicialización: } \\\\\n",
        "&\\hat{\\mathbf{x}}_{0}=\\mathscr{E}\\{\\mathbf{x}\\} \\\\\n",
        "&\\mathbf{P}_{0}=\\mathscr{E}\\left\\{\\left(\\mathbf{x}-\\hat{\\mathbf{x}}_{0}\\right)\\left(\\mathbf{x}-\\hat{\\mathbf{x}}_{0}\\right)^{\\top}\\right\\} \\\\\n",
        "&\\left\\{\\text { Si no hay conocimiento disponible de } \\mathbf{x} \\text { antes de que las medidas sean tomadas, entonces } \\mathbf{P}_{0}=\\infty \\mathbf{I}\\right. \\text {. Si } \\\\\n",
        "&\\text { hay conocimiento absoluto de } \\left.\\mathbf{x} \\text { antes de que las medidas sean tomadas, entonces } \\mathbf{P}_{0}=0 .\\right\\} \\\\\n",
        "&\\text { Cómputo: } \\\\\n",
        "&\\text { 1. Obtención del vector de medición } \\mathbf{y}_{k} \\text {. } \\\\\n",
        "&\\text { for } k=1 \\text { to } N \\text { do } \\\\\n",
        "&\\mathbf{y}_{k}=\\mathbf{H}_{k} \\mathbf{x}_{k}+\\mathbf{w}_{k} \\\\\n",
        "&\\text { end for } \\quad\\left\\{\\mathbf{w}_{k} \\sim N I D\\left(0, \\mathbf{R}_{k}\\right)\\right\\} \\\\\n",
        "&\\text { 2. Actualización del valor estimado de } \\mathbf{x} \\text { y la covarianza del error de estimación } \\mathbf{P} \\text {. } \\\\\n",
        "&\\text { for } k=1 \\text { to } N \\text { do } \\\\\n",
        "&\\quad \\mathbf{K}_{k}=\\mathbf{P}_{k-1} \\mathbf{H}_{k}^{\\top}\\left(\\mathbf{H}_{k} \\mathbf{P}_{k-1} \\mathbf{H}_{k}^{\\top}+\\mathbf{R}_{k}\\right)^{-1} \\\\\n",
        "&\\quad \\hat{\\mathbf{x}}_{k}=\\hat{\\mathbf{x}}_{k-1}+\\mathbf{K}_{k}\\left(\\mathbf{y}_{k}-\\mathbf{H}_{k} \\hat{\\mathbf{x}}_{k-1}\\right) \\\\\n",
        "&\\quad \\mathbf{P}_{k}=\\left(\\mathbf{I}-\\mathbf{K}_{k} \\mathbf{H}_{k}\\right) \\mathbf{P}_{k-1}\\left(\\mathbf{I}-\\mathbf{K}_{k} \\mathbf{H}_{k}\\right)^{\\top}+\\mathbf{K}_{k} \\mathbf{R}_{k} \\mathbf{K}_{k}^{\\top} \\\\\n",
        "&\\text { end for }\n",
        "\\end{aligned}$"
      ],
      "metadata": {
        "id": "tfFSkiRMV1sq"
      }
    },
    {
      "cell_type": "code",
      "source": [
        "import matplotlib.pyplot as plt\n",
        "import numpy as np\n",
        "from numpy.linalg.linalg import transpose\n",
        "R=0.01\n",
        "\n",
        "#p=[np.array([[0.099,0],[0,0.099]])]\n",
        "p=[np.array([[1,0],[0,1]])]\n",
        "\n",
        "x=np.array([[9],[5]]) #Es un vector de valores constantes \n",
        "\n",
        "xi=[np.array([[6],[2]])] #Es el mejor estimado de x\n",
        "\n",
        "w = np.random.normal(0, 1,32)\n",
        "\n",
        "k = []\n",
        "y = []\n",
        "\n",
        "I = np.array([[1,0],[0,1]])\n",
        "\n",
        "for i in range (1,33):\n",
        "  \n",
        "  H=np.array([[1,1]])\n",
        "  Ht=np.transpose(H)\n",
        "\n",
        "  yi=np.matmul(H,x)+w[i-1]\n",
        "  y.append(yi) #Vector de medidas ruidosas\n",
        "  \n",
        "  k1=np.matmul(p[i-1],Ht)\n",
        "  k2=np.power(np.matmul(np.matmul(H,p[i-1]),Ht)+R,-1)\n",
        "  k.append(k1*k2) # Matriz de ganancia del estimador\n",
        "\n",
        "\n",
        "  xi1=np.matmul(k[i-1],np.subtract(yi,np.matmul(H,xi[i-1])))\n",
        "  xi.append(np.add(xi[i-1],xi1))  #Actualizacion del valor estimado de x\n",
        "\n",
        "  p1=np.subtract(I,np.matmul(k[i-1],H))\n",
        "  p2=np.transpose(p1)\n",
        "  p3=np.matmul(np.matmul(p1,p[i-1]),p2)\n",
        "  p4=np.matmul(k[i-1]*R,np.transpose(k[i-1]))\n",
        "  p.append(p3+p4) # Covarianza del error de estimacion\n",
        "\n",
        "estmt1=[]\n",
        "estmt2=[]\n",
        "cvrz1=[]\n",
        "cvrz2=[]\n",
        "\n",
        "for i in range (0,32):\n",
        "  estmt=xi[i] #valor estimado de x\n",
        "  estmt1.append(estmt[0][0])\n",
        "  estmt2.append(estmt[1][0])\n",
        "\n",
        "  cvrz=p[i] #covarianza del error de estimacion\n",
        "  cvrz1.append(cvrz[0][0])\n",
        "  cvrz2.append(cvrz[1][1])\n",
        "\n",
        "Axis=np.linspace(0,32,32)\n",
        "plt.figure(figsize=(12,6))\n",
        "\n",
        "plt.plot(Axis,estmt1,label='x1')\n",
        "plt.plot(Axis,estmt2,label='x2')\n",
        "#plt.xlabel(\"$paso$ $del$ $tiempo$\")\n",
        "plt.xlabel(\"$medidas$\")\n",
        "plt.ylabel(\"$estimados$\")\n",
        "plt.grid()\n",
        "plt.legend()\n",
        "\n",
        "\n",
        "plt.show()\n"
      ],
      "metadata": {
        "colab": {
          "base_uri": "https://localhost:8080/",
          "height": 390
        },
        "id": "7JoOxRvGtBuG",
        "outputId": "7882d1db-49a8-432e-8146-0621b316d082"
      },
      "execution_count": null,
      "outputs": [
        {
          "output_type": "display_data",
          "data": {
            "image/png": "[encoded data removed]",
            "text/plain": [
              "<Figure size 864x432 with 1 Axes>"
            ]
          },
          "metadata": {
            "needs_background": "light"
          }
        }
      ]
    },
    {
      "cell_type": "code",
      "source": [
        "#plt.figure(figsize=(12,6))\n",
        "\n",
        "#plt.plot(Axis,cvrz1,label='P(1,1)')\n",
        "#plt.plot(Axis,cvrz2,label='P(2,2)')\n",
        "#plt.ylabel(\"$Varianza$\")\n",
        "#plt.xlabel(\"$paso$ $del$ $tiempo$\")\n",
        "#plt.grid()\n",
        "#plt.legend()\n",
        "\n",
        "\n",
        "#plt.show()"
      ],
      "metadata": {
        "id": "1k_eAyKq07M0"
      },
      "execution_count": null,
      "outputs": []
    },
    {
      "cell_type": "markdown",
      "source": [
        "Ejemplo 3.5.2 Supóngase que se desea ajustar una línea recta a un conjunto de datos puntuales. El problema de ajuste datos lineales se puede escribir como\n",
        "$$\n",
        "\\begin{aligned}\n",
        "y_{k} &=x_{1}+x_{2} t_{k}+w_{k} \\\\\n",
        "\\mathscr{E}\\left\\{w_{k}^{2}\\right\\} &=R_{k}\n",
        "\\end{aligned}\n",
        "$$\n",
        "donde $t_{k}$ es la variable independiente (quizá el tiempo), $y_{k}$ es el dato ruidoso. Se desea encontrar la relación lineal entre $y_{k}$ y $t_{k}$. En otras palabras se desea estimar las constantes $x_{1}$ y $x_{2}$. La matriz de medidas se puede escribir como\n",
        "$$\n",
        "\\mathbf{H}_{k}=\\left[\\begin{array}{ll}\n",
        "1 & t_{k}\n",
        "\\end{array}\\right]\n",
        "$$"
      ],
      "metadata": {
        "id": "DlYVVU8IdsL6"
      }
    },
    {
      "cell_type": "code",
      "source": [
        "import matplotlib.pyplot as plt\n",
        "import numpy as np\n",
        "from numpy.linalg.linalg import transpose\n",
        "R=0.99\n",
        "\n",
        "p=[np.array([[1,0],[0,1]])]\n",
        "\n",
        "x=np.array([[14],[3]]) #Es un vector de valores constantes \n",
        "\n",
        "xi=[np.array([[10],[6]])] #Es el mejor estimado de x\n",
        "\n",
        "w = np.random.normal(0, 0.99, 64)\n",
        "\n",
        "k = []\n",
        "y = []\n",
        "\n",
        "I = np.array([[1,0],[0,1]])\n",
        "\n",
        "for i in range (1,65):\n",
        "  tk= 0.27*i+0.51\n",
        " \n",
        "  H=np.array([[1,tk]])\n",
        "  Ht=np.transpose(H)\n",
        "\n",
        "  yi=np.matmul(H,x)+w[i-1]\n",
        "  y.append(yi) #Vector de medidas ruidosas\n",
        "  \n",
        "  k1=np.matmul(p[i-1],Ht)\n",
        "  k2=np.power(np.matmul(np.matmul(H,p[i-1]),Ht)+R,-1)\n",
        "  k.append(k1*k2) # Matriz de ganancia del estimador\n",
        "\n",
        "\n",
        "  xi1=np.matmul(k[i-1],np.subtract(yi,np.matmul(H,xi[i-1])))\n",
        "  xi.append(np.add(xi[i-1],xi1))  #Actualizacion del valor estimado de x\n",
        "\n",
        "  p1=np.subtract(I,np.matmul(k[i-1],H))\n",
        "  p2=np.transpose(p1)\n",
        "  p3=np.matmul(np.matmul(p1,p[i-1]),p2)\n",
        "  p4=np.matmul(k[i-1]*R,np.transpose(k[i-1]))\n",
        "  p.append(p3+p4) # Covarianza del error de estimacion\n",
        "\n",
        "estmt1=[]\n",
        "estmt2=[]\n",
        "cvrz1=[]\n",
        "cvrz2=[]\n",
        "\n",
        "for i in range (0,64):\n",
        "  estmt=xi[i] #valor estimado de x\n",
        "  estmt1.append(estmt[0][0])\n",
        "  estmt2.append(estmt[1][0])\n",
        "\n",
        "  cvrz=p[i] #covarianza del error de estimacion\n",
        "  cvrz1.append(cvrz[0][0])\n",
        "  cvrz2.append(cvrz[1][1])\n",
        "\n",
        "Axis=np.linspace(0,64,64)\n",
        "plt.figure(figsize=(12,6))\n",
        "\n",
        "plt.plot(Axis,estmt1,label='x1')\n",
        "plt.plot(Axis,estmt2,label='x2')\n",
        "#plt.xlabel(\"$paso$ $del$ $tiempo$\")\n",
        "plt.xlabel(\"$medidas$\")\n",
        "plt.ylabel(\"$estimados$\")\n",
        "plt.grid()\n",
        "plt.legend()\n",
        "\n",
        "\n",
        "plt.show()\n"
      ],
      "metadata": {
        "colab": {
          "base_uri": "https://localhost:8080/",
          "height": 390
        },
        "id": "RSoCRW-nTCAi",
        "outputId": "4733a51c-d75c-43b8-924f-5eb44e2ca385"
      },
      "execution_count": null,
      "outputs": [
        {
          "output_type": "display_data",
          "data": {
            "image/png": "[encoded data removed]",
            "text/plain": [
              "<Figure size 864x432 with 1 Axes>"
            ]
          },
          "metadata": {
            "needs_background": "light"
          }
        }
      ]
    },
    {
      "cell_type": "code",
      "source": [
        "#plt.figure(figsize=(12,6))\n",
        "\n",
        "#plt.plot(Axis,cvrz1,label='P(1,1)')\n",
        "#plt.plot(Axis,cvrz2,label='P(2,2)')\n",
        "#plt.ylabel(\"$Varianza$\")\n",
        "#plt.xlabel(\"$paso$ $del$ $tiempo$\")\n",
        "#plt.grid()\n",
        "#plt.legend()\n",
        "\n",
        "\n",
        "#plt.show()\n"
      ],
      "metadata": {
        "id": "6dmc7PoG1Dg2"
      },
      "execution_count": null,
      "outputs": []
    },
    {
      "cell_type": "markdown",
      "source": [
        "Ejemplo $3.5 .3$ Supóngase que un tanque contiene una concentración $x_{1}$ del químico 1 y una concentración $x_{2}$ del químico $2 .$ Se tiene una instrumentación que puede detectar la concentración combinada $\\left(x_{1}+x_{2}\\right)$ de los dos químicos, pero la instrumentación no puede distinguir ninguno de los químicos por separado.\n",
        "\n",
        "Se elimina del tanque el químico 2 a través de un proceso de lixiviación de modo que su concentración decrece en un $1 \\%$ por cada medida. La ecuación de medición está dada por\n",
        "$$\n",
        "\\begin{aligned}\n",
        "y_{k} &=x_{1}+0.99^{k-1} x_{2}+w_{k} \\\\\n",
        "&=\\left[\\begin{array}{ll}\n",
        "1 & 0.99^{k-1}\n",
        "\\end{array}\\right] \\mathbf{x}+w_{k}\n",
        "\\end{aligned}\n",
        "$$\n",
        "donde $w_{k}$ es el ruido de la medida, el cual es una variable aleatoria de media cero y varianza $R=0.01$. Supóngase que $x_{1}=10 $  y  $ x_{2}=5$.\n",
        "\n",
        "Además, supóngase que los estimados iniciales son $\\hat{x}_{1}=8$ y $\\hat{x}_{2}=7$, con una varianza del error de estimación $\\mathbf{P}_{0}=\\mathbf{I}$."
      ],
      "metadata": {
        "id": "OVDiHlm9UrI5"
      }
    },
    {
      "cell_type": "code",
      "execution_count": null,
      "metadata": {
        "colab": {
          "base_uri": "https://localhost:8080/",
          "height": 390
        },
        "id": "sjJD8FG5u-6u",
        "outputId": "d209b433-c14b-4e86-e01d-1cd3d6eae632"
      },
      "outputs": [
        {
          "output_type": "display_data",
          "data": {
            "image/png": "[encoded data removed]",
            "text/plain": [
              "<Figure size 864x432 with 1 Axes>"
            ]
          },
          "metadata": {
            "needs_background": "light"
          }
        }
      ],
      "source": [
        "import matplotlib.pyplot as plt\n",
        "import numpy as np\n",
        "from numpy.linalg.linalg import transpose\n",
        "R=0.1 # Nota: se debe proteger el codigo para que los resultados sean interpretables que no es posible para valores degativos de R\n",
        "p=[np.array([[1,0],[0,1]])]\n",
        "\n",
        "x=np.array([[10],[5]]) #Es un vector de valores constantes \n",
        "\n",
        "xi=[np.array([[8],[7]])] #Es el mejor estimado de x\n",
        "\n",
        "w = np.random.normal(0, 0.1, 1280)\n",
        "\n",
        "k = []\n",
        "y = []\n",
        "\n",
        "I = np.array([[1,0],[0,1]])\n",
        "\n",
        "for i in range (1,1281):\n",
        "\n",
        "  H=np.array([[np.power(0.99,i-1),1]])\n",
        "  Ht=np.transpose(H)\n",
        "\n",
        "  yi=np.matmul(H,x)+w[i-1]\n",
        "  y.append(yi) #Vector de medidas ruidosas\n",
        "  \n",
        "  k1=np.matmul(p[i-1],Ht)\n",
        "  k2=np.power(np.matmul(np.matmul(H,p[i-1]),Ht)+R,-1)\n",
        "  k.append(k1*k2) # Matriz de ganancia del estimador\n",
        "\n",
        "\n",
        "  xi1=np.matmul(k[i-1],np.subtract(yi,np.matmul(H,xi[i-1])))\n",
        "  xi.append(np.add(xi[i-1],xi1))  #Actualizacion del valor estimado de x\n",
        "\n",
        "  p1=np.subtract(I,np.matmul(k[i-1],H))\n",
        "  p2=np.transpose(p1)\n",
        "  p3=np.matmul(np.matmul(p1,p[i-1]),p2)\n",
        "  p4=np.matmul(k[i-1]*R,np.transpose(k[i-1]))\n",
        "  p.append(p3+p4) # Covarianza del error de estimacion\n",
        "\n",
        "estmt1=[]\n",
        "estmt2=[]\n",
        "cvrz1=[]\n",
        "cvrz2=[]\n",
        "\n",
        "for i in range (0,1280):\n",
        "  estmt=xi[i] #valor estimado de x\n",
        "  estmt1.append(estmt[0][0])\n",
        "  estmt2.append(estmt[1][0])\n",
        "\n",
        "  cvrz=p[i] #covarianza del error de estimacion\n",
        "  cvrz1.append(cvrz[0][0])\n",
        "  cvrz2.append(cvrz[1][1])\n",
        "\n",
        "Axis=np.linspace(0,1280,1280)\n",
        "\n",
        "plt.figure(figsize=(12,6))\n",
        "\n",
        "plt.plot(Axis,estmt1,label='x1')\n",
        "plt.plot(Axis,estmt2,label='x2')\n",
        "#plt.xlabel(\"$paso$ $del$ $tiempo$\")\n",
        "plt.xlabel(\"$medidas$\")\n",
        "plt.ylabel(\"$estimados$\")\n",
        "plt.grid()\n",
        "plt.legend()\n",
        "\n",
        "\n",
        "plt.show()"
      ]
    },
    {
      "cell_type": "markdown",
      "source": [
        "Gracias al metodo de estimacion por recursividad apreciamos como despues de ciertas medidas la grafica se ajusta a los verdaderos valores de $x_{1}$ y $x_{2}$"
      ],
      "metadata": {
        "id": "CGjeV3Fa5GCu"
      }
    },
    {
      "cell_type": "code",
      "source": [
        "plt.figure(figsize=(12,6))\n",
        "\n",
        "plt.plot(Axis,cvrz1,label='P(1,1)')\n",
        "plt.plot(Axis,cvrz2,label='P(2,2)')\n",
        "plt.ylabel(\"$Varianza$\")\n",
        "plt.xlabel(\"$paso$ $del$ $tiempo$\")\n",
        "plt.grid()\n",
        "plt.legend()\n",
        "\n",
        "\n",
        "plt.show()"
      ],
      "metadata": {
        "colab": {
          "base_uri": "https://localhost:8080/",
          "height": 392
        },
        "id": "vJWZ1k8KbidS",
        "outputId": "1d2941e6-b92c-47fa-9773-e8a99c1ca172"
      },
      "execution_count": null,
      "outputs": [
        {
          "output_type": "display_data",
          "data": {
            "image/png": "[encoded data removed]",
            "text/plain": [
              "<Figure size 864x432 with 1 Axes>"
            ]
          },
          "metadata": {
            "needs_background": "light"
          }
        }
      ]
    },
    {
      "cell_type": "markdown",
      "source": [
        "Con la grafica podemos caer en cuenta que la covarianza del error es mayor al inicio pero decrece de manera rapida hasta que se vuelve cero, eso quiere decir que despues de ciertas muestras el resultado es un valor muy confiable."
      ],
      "metadata": {
        "id": "9i98Fwfr5AXr"
      }
    }
  ]
}